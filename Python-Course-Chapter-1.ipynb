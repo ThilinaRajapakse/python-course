{
 "cells": [
  {
   "cell_type": "markdown",
   "metadata": {},
   "source": [
    "# Introduction to Python\n",
    "\n",
    "R.M.T.C. Rajapakse"
   ]
  },
  {
   "cell_type": "markdown",
   "metadata": {},
   "source": [
    "# Chapter 1 - Installation and Environments"
   ]
  },
  {
   "cell_type": "markdown",
   "metadata": {},
   "source": [
    "## The Zen of Python\n",
    "\n",
    ">Beautiful is better than ugly.\n",
    "Explicit is better than implicit.\n",
    "Simple is better than complex.\n",
    "Complex is better than complicated.\n",
    "Flat is better than nested.\n",
    "Sparse is better than dense.\n",
    "Readability counts.\n",
    "Special cases aren't special enough to break the rules.\n",
    "Although practicality beats purity.\n",
    "Errors should never pass silently.\n",
    "Unless explicitly silenced.\n",
    "In the face of ambiguity, refuse the temptation to guess.\n",
    "There should be one-- and preferably only one --obvious way to do it.\n",
    "Although that way may not be obvious at first unless you're Dutch.\n",
    "Now is better than never.\n",
    "Although never is often better than *right* now.\n",
    "If the implementation is hard to explain, it's a bad idea.\n",
    "If the implementation is easy to explain, it may be a good idea.\n",
    "Namespaces are one honking great idea -- let's do more of those!\n"
   ]
  },
  {
   "cell_type": "markdown",
   "metadata": {},
   "source": [
    "## 1.1 Python overview"
   ]
  },
  {
   "cell_type": "markdown",
   "metadata": {},
   "source": [
    "### Multi-Paradigm\n",
    "\n",
    "Python is a multi-paradigm programming language. A goal of a multi-paradigm programming language is to allow a programmer to use the most suitable style and language construct for the situation. For example, a certain case may be more easily implemented with an Object-Oriented approach while another may call for a Procedural approach. Python supports programming in various such disciplines."
   ]
  },
  {
   "cell_type": "markdown",
   "metadata": {},
   "source": [
    "### Dynamically typed\n",
    "\n",
    "In a dynamically typed language, such as Python, any variable name is only bound to an object(think of it as the data part of the variable). During execution, a variable name can be bound to any object of arbitary datatype.\n",
    "\n",
    "In contrast, a statically typed language, such as C, every variable name is bound to both a type and an object. It is bound to a type at compile time and binding to an object is optional. If it is not bound to an object, it is said to be *null*."
   ]
  },
  {
   "cell_type": "code",
   "execution_count": null,
   "metadata": {
    "collapsed": true
   },
   "outputs": [],
   "source": [
    "a = 5    # a is an integer\n",
    "print(type(a))\n",
    "\n",
    "a = 'python'    # Now, it is of the datatype string.\n",
    "print(type(a))"
   ]
  },
  {
   "cell_type": "markdown",
   "metadata": {},
   "source": [
    "In a statically typed language, assigning a string to a variable initialized as an integer would generate an error.\n",
    "\n",
    "    int a = 5;\n",
    "    a = 'C';\n",
    "    \n",
    "This would generate an error in C."
   ]
  },
  {
   "cell_type": "markdown",
   "metadata": {},
   "source": [
    "### Highly extensible\n",
    "\n",
    "Python can be extended with a vast array of libraries and packages. These libraries and packages provide functions, classes and other useful things that can be used in new projects. You can even extend Python with modules written in C or other languages that provide C interfaces. Modules written in C are often far more efficient than pure python implementations.\n",
    "\n",
    "The NumPy package is a highly efficient package used in scientific computing that is written in C. Packages like Cython can also be used to implement efficient C code, but with almost the same readability and ease of development as Python itself.\n",
    "\n",
    "Note that, efficiency here refers to CPU/memory usage, and computation time."
   ]
  },
  {
   "cell_type": "markdown",
   "metadata": {},
   "source": [
    "### Readability counts\n",
    "\n",
    "Readability is at the core of the design of the Python language. It was designed from the start to be highly readable, since code is usually read a lot more than it is written. Python provides a complete set of code style guidelines and \"Pythonic\" idioms to ensure that any Python code remains highly readable.\n",
    "\n",
    "[PEP 8 -- Style Guide for Python Code](https://www.python.org/dev/peps/pep-0008/)\n",
    "\n",
    "When in doubt, check documentation!"
   ]
  },
  {
   "cell_type": "markdown",
   "metadata": {},
   "source": [
    "## 1.2 Conda Environments"
   ]
  },
  {
   "cell_type": "markdown",
   "metadata": {},
   "source": [
    "A conda environment is a self contained environment where specific versions of Python and other packages can be installed. It is often good practice to have a seperate conda environment for each project. It is possible to create as many environments as needed, since they are essentially a directory to contain package installations.\n",
    "\n",
    "To illustrate the need for environments, consider a situation where we have two projects, namely *projectA* and *projectB*, both of which depend on *packageC*. *projectA* might require version 1.0 of *packageC* while *projectB* requires version 2.0. Without seperate environments, we cannot install the necessary version of *packageC* without breaking one of the two projects. With conda environments, we can have one environment with version 1.0 of *packageC* for *projectA*, while another environment has version 2.0 of *packageC* for *projectB*, resolving the issue."
   ]
  },
  {
   "cell_type": "markdown",
   "metadata": {},
   "source": [
    "### Creating a conda environment\n",
    "\n",
    "To create a new conda environment, open the anaconda prompt(click start, search for \"anaconda prompt\") and enter the following command.\n",
    "\n",
    "    \"conda create --name [name_of_new_environment] [list_of_packages_to_be_installed]\"\n",
    "    \n",
    "For example, to create a conda environment by the name \"python_course\", with the packages Python(specifying version 3.6) and NumPy we can use the following command.\n",
    "\n",
    "    \"conda create --name python_course python=3.6 numpy\""
   ]
  },
  {
   "cell_type": "markdown",
   "metadata": {},
   "source": [
    "### Activating and deactivating environments\n",
    "\n",
    "+ To activate an environment, we can use the command below.\n",
    "\n",
    "    >\"conda activate \\[environment_name\\]\"\n",
    "\n",
    "\n",
    "+ To deactivate an environment, we can use the following command.\n",
    "\n",
    "    >\"conda deactivate\""
   ]
  },
  {
   "cell_type": "markdown",
   "metadata": {},
   "source": [
    "### Managing conda environments\n",
    "\n",
    "+ Command to display a list of created environments, with the currently activated environment marked with an asterik(*).\n",
    "\n",
    "    >\"conda info -- envs”\n",
    "\n",
    "\n",
    "+ Command to clone an environment. This creates a new environment containing all the packages in the original environment. The original environment remains unchanged.\n",
    "\n",
    "    >\"conda create --name \\[new_environment_name\\] --clone \\[original_environment_name\\]\n",
    "    \n",
    "    \n",
    "+ Command to delete an environment.\n",
    "\n",
    "    >\"conda remove --name \\[environment_name\\] --all\""
   ]
  }
 ],
 "metadata": {
  "kernelspec": {
   "display_name": "Python 3",
   "language": "python",
   "name": "python3"
  },
  "language_info": {
   "codemirror_mode": {
    "name": "ipython",
    "version": 3
   },
   "file_extension": ".py",
   "mimetype": "text/x-python",
   "name": "python",
   "nbconvert_exporter": "python",
   "pygments_lexer": "ipython3",
   "version": "3.6.2"
  }
 },
 "nbformat": 4,
 "nbformat_minor": 2
}
