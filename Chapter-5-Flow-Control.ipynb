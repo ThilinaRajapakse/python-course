{
 "cells": [
  {
   "cell_type": "markdown",
   "metadata": {},
   "source": [
    "# Introduction to Python\n",
    "\n",
    "R.M.T.C. Rajapakse"
   ]
  },
  {
   "cell_type": "markdown",
   "metadata": {},
   "source": [
    "# Chapter 5 - Control Flow"
   ]
  },
  {
   "cell_type": "markdown",
   "metadata": {},
   "source": [
    "Control flow statements are used when you want the program to perform a different action based on different situations. That is, change the flow of a program.\n",
    "\n",
    "The three control flow statements in Python are - ***if***, ***for***, and ***while***."
   ]
  },
  {
   "cell_type": "markdown",
   "metadata": {},
   "source": [
    "## 5.1 *if* Statement"
   ]
  },
  {
   "cell_type": "markdown",
   "metadata": {},
   "source": [
    "The *if* statement is used to check a given condition. If the condition is True, the statements inside the *if* block are executed. Otherwise, the statements inside the *if* block are ignored and control is passed to the line immediately below the *if* block.\n",
    "\n",
    "We can also add optional *elif* and *else* parts. *elif* is shorthand for \"else if\". There can be any number of *elif* blocks but there can only be one *else* block for each *if* statement.\n",
    "\n",
    "When an *if* statement is encountered, Python first checks if the *if* condition is True. If it is, it executes the statements inside the block and any following *elif* and *else* blocks are not evaluated. If the *if* condition is False, Python then checks any following *elif* conditions. If it encounters any *elif* condition that evaluates to True, the statements inside that *elif* block are executed. Any following *elif* and *else* blocks are ignored.\n",
    "\n",
    "If the *if* condition and all *elif* conditions evaluate to False, then Python will execute the *else* block. Note that we do not provide an explicit condition for the *else* block. It will be executed if and only if its preceding *if* and *elif* statements evaluate to False.\n",
    "\n",
    "We can use the Boolean operators **and**, **or** and **not** to create more complex conditions."
   ]
  },
  {
   "cell_type": "code",
   "execution_count": null,
   "metadata": {
    "collapsed": true
   },
   "outputs": [],
   "source": [
    "def if_statements(x):\n",
    "    \"\"\"Perform a series of checks and print statements depending on input x\"\"\"\n",
    "    if x < 10:\n",
    "        print('x less than 10')\n",
    "    elif x < 20:\n",
    "        print('x less than 20')\n",
    "    elif x < 30:\n",
    "        print('x less than 30')\n",
    "    elif x < 30 and x > 20:\n",
    "        print('x is between 20 and 30')\n",
    "    elif x > 30 and x < 50:\n",
    "        print('x is between 30 and 50')\n",
    "    else:\n",
    "        print('x is greater than 50')"
   ]
  },
  {
   "cell_type": "code",
   "execution_count": null,
   "metadata": {},
   "outputs": [],
   "source": [
    "if_statements(5)"
   ]
  },
  {
   "cell_type": "markdown",
   "metadata": {},
   "source": [
    "Since the if-condition evaluates to True, the elif-statements and else-statement are not checked. That is why \"x less than 20\" is not printed, even though that elif-condition will also evaluate to True."
   ]
  },
  {
   "cell_type": "code",
   "execution_count": null,
   "metadata": {},
   "outputs": [],
   "source": [
    "if_statements(15)"
   ]
  },
  {
   "cell_type": "markdown",
   "metadata": {},
   "source": [
    "Here, the *if* condition is False. Therefore, Python checks the following *elif* condition. Since it is True, the statements inside the *elif* block gets executed."
   ]
  },
  {
   "cell_type": "code",
   "execution_count": null,
   "metadata": {},
   "outputs": [],
   "source": [
    "if_statements(25)"
   ]
  },
  {
   "cell_type": "markdown",
   "metadata": {},
   "source": [
    "In this case, the first two conditions(x < 10, x < 20) evaluate to False and the third condition (x < 30) evaluates to True. Therefore, statements inside third condition are executed."
   ]
  },
  {
   "cell_type": "markdown",
   "metadata": {},
   "source": [
    "In this function, you may notice that if the fourth condition (x < 30 **and** x > 20) is True, the third condition (x < 30) will also be True. This means that no matter what value we give to x, the statements inside the fourth condition will never be executed."
   ]
  },
  {
   "cell_type": "code",
   "execution_count": null,
   "metadata": {},
   "outputs": [],
   "source": [
    "if_statements(40)"
   ]
  },
  {
   "cell_type": "markdown",
   "metadata": {},
   "source": [
    "Notice that we can use Boolean operators to further define our condition."
   ]
  },
  {
   "cell_type": "code",
   "execution_count": null,
   "metadata": {},
   "outputs": [],
   "source": [
    "if_statements(100)"
   ]
  },
  {
   "cell_type": "markdown",
   "metadata": {},
   "source": [
    "Here, the *else* condition is triggered since none of the *if* and *elif* conditions evaluated to True. By observation, we can see that this only happens when x is a number greater than 50, hence the print statement inside the *else* block."
   ]
  },
  {
   "cell_type": "markdown",
   "metadata": {},
   "source": [
    "![If statement flowchart](imgs/if_diagram.png)"
   ]
  },
  {
   "cell_type": "markdown",
   "metadata": {},
   "source": [
    "The flowchart above shows the process of a Python *if... elif... else* block."
   ]
  },
  {
   "cell_type": "markdown",
   "metadata": {},
   "source": [
    "## 5.2 For Loop"
   ]
  },
  {
   "cell_type": "markdown",
   "metadata": {},
   "source": [
    "### 5.2.1 For loop syntax"
   ]
  },
  {
   "cell_type": "markdown",
   "metadata": {},
   "source": [
    "*for loop*s in Python is a little different from most other programming languages. Intead of looping over an arithmetic progression or defining a counter, step size and halting condition, Python's *for* statement iterates over the items of any sequence (a list or a string, for example), in the order that they appear inside the sequence."
   ]
  },
  {
   "cell_type": "code",
   "execution_count": null,
   "metadata": {},
   "outputs": [],
   "source": [
    "numbers = [1, 2, 3, 4, 5]\n",
    "\n",
    "for number in numbers:\n",
    "    print(number, ' ', str(number*2))"
   ]
  },
  {
   "cell_type": "markdown",
   "metadata": {},
   "source": [
    "Here, we have a list named numbers and we iterate over each item in the list using a *for loop*. At each iteration, the current value is assigned to the variable \"number\". This code prints out the value of the variable \"number\" and the value multiplied by two, at each iteration of the *for loop*.\n",
    "\n",
    "The variable \"number\" is simply an identifier that is assigned the current value at each iteration. We can name it whatever we like, as long as it is a valid variable name in Python. For example, the same code above can be written with the variable \"x\" instead of \"number\"."
   ]
  },
  {
   "cell_type": "code",
   "execution_count": null,
   "metadata": {},
   "outputs": [],
   "source": [
    "numbers = [1, 2, 3, 4, 5]\n",
    "\n",
    "for x in numbers:\n",
    "    print(x, ' ', str(x*2))"
   ]
  },
  {
   "cell_type": "markdown",
   "metadata": {},
   "source": [
    "As you can see, this produces the exact same result."
   ]
  },
  {
   "cell_type": "markdown",
   "metadata": {},
   "source": [
    "### 5.2.2 Modifying a sequence inside a for loop"
   ]
  },
  {
   "cell_type": "markdown",
   "metadata": {},
   "source": [
    "If you need to modify(add or remove, i.e. an action that causes indexes to change) a sequence while inside a for loop, you should make a copy of the sequence to iterate over before modifying the original sequence. Modifying the same sequence that you are iterating over can have unexpected consequences and may cause errors. The slice notation can be used to conveniently make a copy of a sequence to iterate over."
   ]
  },
  {
   "cell_type": "code",
   "execution_count": null,
   "metadata": {},
   "outputs": [],
   "source": [
    "# Let us remove even numbers from our original numbers list.\n",
    "\n",
    "for number in numbers[:]:\n",
    "    if number % 2 == 0:\n",
    "        numbers.remove(number)\n",
    "        \n",
    "print(numbers)"
   ]
  },
  {
   "cell_type": "markdown",
   "metadata": {},
   "source": [
    "Note that our *for* loop is iterating over a copy of the \"numbers\" list, not the original list. However, when we run across an even value in the copy of the \"numbers\" list, we remove that number from our original list.\n",
    "\n",
    "This leaves us with our original list with even numbers removed, and no nasty surprises."
   ]
  },
  {
   "cell_type": "markdown",
   "metadata": {
    "collapsed": true
   },
   "source": [
    "### 5.2.3 *enumerate()* function"
   ]
  },
  {
   "cell_type": "markdown",
   "metadata": {},
   "source": [
    "The *enumerate()* function is a built-in function that can be used when we want the index of an item as well as the current item of a sequence that we are iterating over.\n",
    "\n",
    "The *enumerate()* function returns the current index, and current value at each iteration of a sequence."
   ]
  },
  {
   "cell_type": "code",
   "execution_count": null,
   "metadata": {},
   "outputs": [],
   "source": [
    "s = 'string'\n",
    "\n",
    "for i, letter in enumerate(s):\n",
    "    print('The letter at index', str(i), 'is', letter)"
   ]
  },
  {
   "cell_type": "markdown",
   "metadata": {},
   "source": [
    "### 5.2.4 *range()* function"
   ]
  },
  {
   "cell_type": "markdown",
   "metadata": {},
   "source": [
    "The *range()* function is used to generate a sequence of numbers. The structure  of the function is **range(start, stop, step_size)**. If a value is not provided for step_size, it will default to 1 and if a value is not provided for start, it ll default to 0.\n",
    "\n",
    "Like most cases in Python, the range function includes the start value given to it but not the end value. This means that *range(n)* will generate a sequence from 0 up to, but not including, n. The sequence will have a length n. The intuition to take from this is that *range(n)* will generate *n* number of values."
   ]
  },
  {
   "cell_type": "markdown",
   "metadata": {},
   "source": [
    "This function does not store all the values in memory, as it would be hugely inefficient when working with large numbers. Instead, it generates the next number on the fly. The *range()* function returns a built-in Python datatype called an iterator. We'll see these in more detail later on. If we need the sequence as a list, it has to be explicitly type casted into a list."
   ]
  },
  {
   "cell_type": "code",
   "execution_count": null,
   "metadata": {},
   "outputs": [],
   "source": [
    "list(range(10))"
   ]
  },
  {
   "cell_type": "code",
   "execution_count": null,
   "metadata": {},
   "outputs": [],
   "source": [
    "list(range(5, 25, 5))"
   ]
  },
  {
   "cell_type": "code",
   "execution_count": null,
   "metadata": {},
   "outputs": [],
   "source": [
    "list(range(20, 10, -1))"
   ]
  },
  {
   "cell_type": "markdown",
   "metadata": {},
   "source": [
    "The *range()* function is useful when we want a Python for loop to behave more like a traditional numeric for loop."
   ]
  },
  {
   "cell_type": "code",
   "execution_count": null,
   "metadata": {},
   "outputs": [],
   "source": [
    "for i in range(10):\n",
    "    print(i)"
   ]
  },
  {
   "cell_type": "code",
   "execution_count": null,
   "metadata": {},
   "outputs": [],
   "source": [
    "lst = ['a', 'b', 'c', 'd']\n",
    "\n",
    "for i in range(len(lst)):\n",
    "    print('Letter at index', str(i), 'is', str(lst[i]))"
   ]
  },
  {
   "cell_type": "markdown",
   "metadata": {},
   "source": [
    "## 5.3 While Loop"
   ]
  },
  {
   "cell_type": "markdown",
   "metadata": {},
   "source": [
    "A Python while loop is a condition-controlled loop, i.e. the loop will be repeated as long as a given condition is True. Generally, a *while loop* will contain a variable or variables that change their value during the execution of the loop. A single variable that determines the number of times a loop will be run is commonly called a \"counter\". These variables are initialized before the the loop begins, since the loop evaluates the condition before the body of the loop is executed. It doesn't really make sense to have a condition *if x > 5*, if our Python program has no idea what *x* is.\n",
    "\n",
    "A Python *while loop* first checks the condition. If it evaluates to True, the body of the loop (the indented block below the *while* statement, is executed. Once the body is finished, the condition is evaluated again. If it True, the body is again executed. If it is False, the loop ends. In general, a *while loop* will repeat itself for as long as its condition evaluates to True."
   ]
  },
  {
   "cell_type": "code",
   "execution_count": null,
   "metadata": {},
   "outputs": [],
   "source": [
    "# The code below shows an example of a while loop used to calculate the sum of\n",
    "# the squares of the first 50 numbers.\n",
    "\n",
    "limit = 50\n",
    "sum_sqr = 0\n",
    "counter = 0\n",
    "\n",
    "while counter < limit:\n",
    "    sum_sqr += counter ** 2\n",
    "    counter += 1\n",
    "    \n",
    "print(sum_sqr)"
   ]
  },
  {
   "cell_type": "markdown",
   "metadata": {},
   "source": [
    "In the example above, we can see that the variables *counter* and *sum_sqr* need to be initialized before the loop runs. In the case of the *counter*, the loop needs to know what *counter* is in order to evaluate the statement *counter < limit*. For *sum_sqr*, we need to define it before the loop to avoid getting its value overwritten at each iteration of the loop. If it was defined inside the loop, the value of *sum_sqr* will be reset to 0 at every iteration and the values calculated in the previous iterations will be lost. We also need to make sure that our loop will terminate at some point, i.e. the loop condition will evaluate to False. That is why we increase the value of counter by 1 for every iteration. Otherwise, our loop will become an infinite loop and run endlessly. Not exactly what we need to calculate the sum of the squares of the first 50 numbers."
   ]
  },
  {
   "cell_type": "markdown",
   "metadata": {},
   "source": [
    "## 5.4 The continue statement"
   ]
  },
  {
   "cell_type": "markdown",
   "metadata": {},
   "source": [
    "The *continue* statement is used to control the flow of a loop. When a loop encounters a *continue* statement, it will skip the remaining statement of the loop body and jump directly into the next iteration of the loop.\n",
    "Note that the *continue* statement does not end a loop. It only skips the current iteration."
   ]
  },
  {
   "cell_type": "code",
   "execution_count": null,
   "metadata": {},
   "outputs": [],
   "source": [
    "n = 20\n",
    "counter = 0\n",
    "\n",
    "while counter < n:\n",
    "    counter += 1\n",
    "    if counter % 3 == 0:\n",
    "        print(\"Divisible by 3!\")\n",
    "        continue\n",
    "    print(counter)"
   ]
  },
  {
   "cell_type": "markdown",
   "metadata": {},
   "source": [
    "The *while loop* above prints the numbers from 1 to 20, except for the numbers that are divisible by 3. Note that everything above the *continue* statement gets executed at every iteration of the loop. This is the reason for putting the *counter += 1* line above the *continue* statement. If it had been placed below the *continue* statement, we would have gotten stuck in an infinite loop. The counter will never increase above 3 since the *continue* statement causes the loop to skip the incrementing statement once the counter reaches the value 3."
   ]
  },
  {
   "cell_type": "markdown",
   "metadata": {},
   "source": [
    "A similar code can be written using a *for loop*."
   ]
  },
  {
   "cell_type": "code",
   "execution_count": null,
   "metadata": {},
   "outputs": [],
   "source": [
    "for counter in range(1, 20):\n",
    "    if counter % 3 == 0:\n",
    "        print(\"Divisible by 3!\")\n",
    "        continue\n",
    "    print(counter)"
   ]
  },
  {
   "cell_type": "markdown",
   "metadata": {},
   "source": [
    "Here, we don't need a statement to increment the value of the counter, since the *for loop* is simply iterating over a collection of numbers from 1 to 20."
   ]
  },
  {
   "cell_type": "markdown",
   "metadata": {},
   "source": [
    "## 5.5 The break statement"
   ]
  },
  {
   "cell_type": "markdown",
   "metadata": {},
   "source": [
    "The *break* is also used to control the flow of a loop. When a loop encounters a *break* statement, it will immediately exit the loop, skipping any remaining statements of the current iteration as well as any remaining iterations of the loop."
   ]
  },
  {
   "cell_type": "code",
   "execution_count": null,
   "metadata": {},
   "outputs": [],
   "source": [
    "n = 20\n",
    "counter = 0\n",
    "\n",
    "while counter < n:\n",
    "    counter += 1\n",
    "    if counter % 3 == 0:\n",
    "        print(\"Divisible by 3!\")\n",
    "        break\n",
    "    print(counter)"
   ]
  },
  {
   "cell_type": "code",
   "execution_count": null,
   "metadata": {},
   "outputs": [],
   "source": [
    "for counter in range(1, 20):\n",
    "    if counter % 3 == 0:\n",
    "        print(\"Divisible by 3!\")\n",
    "        break\n",
    "    print(counter)"
   ]
  },
  {
   "cell_type": "markdown",
   "metadata": {},
   "source": [
    "As you can see, the break statement stops the execution of the loop immediately. No further statements or iterations of the loop are executed."
   ]
  }
 ],
 "metadata": {
  "kernelspec": {
   "display_name": "Python 3",
   "language": "python",
   "name": "python3"
  },
  "language_info": {
   "codemirror_mode": {
    "name": "ipython",
    "version": 3
   },
   "file_extension": ".py",
   "mimetype": "text/x-python",
   "name": "python",
   "nbconvert_exporter": "python",
   "pygments_lexer": "ipython3",
   "version": "3.6.2"
  }
 },
 "nbformat": 4,
 "nbformat_minor": 2
}
