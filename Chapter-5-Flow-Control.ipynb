{
 "cells": [
  {
   "cell_type": "markdown",
   "metadata": {},
   "source": [
    "# Introduction to Python\n",
    "\n",
    "R.M.T.C. Rajapakse"
   ]
  },
  {
   "cell_type": "markdown",
   "metadata": {},
   "source": [
    "# Chapter 5 - Control Flow"
   ]
  },
  {
   "cell_type": "markdown",
   "metadata": {},
   "source": [
    "Control flow statements are used when you want the program to perform a different action based on different situations. That is, change the flow of a program.\n",
    "\n",
    "The three control flow statements in Python are - ***if***, ***for***, and ***while***."
   ]
  },
  {
   "cell_type": "markdown",
   "metadata": {},
   "source": [
    "## 5.1 *if* Statement"
   ]
  },
  {
   "cell_type": "markdown",
   "metadata": {},
   "source": [
    "The *if* statement is used to check a given condition. If the condition is True, the statements inside the *if* block are executed. Otherwise, the statements inside the *if* block are ignored and control is passed to the line immediately below the *if* block.\n",
    "\n",
    "We can also add optional *elif* and *else* parts. *elif* is shorthand for \"else if\". There can be any number of *elif* blocks but there can only be one *else* block for each *if* statement.\n",
    "\n",
    "When an *if* statement is encountered, Python first checks if the *if* condition is True. If it is, it executes the statements inside the block and any following *elif* and *else* blocks are not evaluated. If the *if* condition is False, Python then checks any following *elif* conditions. If it encounters any *elif* condition that evaluates to True, the statements inside that *elif* block are executed. Any following *elif* and *else* blocks are ignored.\n",
    "\n",
    "If the *if* condition and all *elif* conditions evaluate to False, then Python will execute the *else* block. Note that we do not provide an explicit condition for the *else* block. It will be executed if and only if its preceding *if* and *elif* statements evaluate to False.\n",
    "\n",
    "We can use the Boolean operators **and**, **or** and **not** to create more complex conditions."
   ]
  },
  {
   "cell_type": "code",
   "execution_count": 6,
   "metadata": {
    "collapsed": true
   },
   "outputs": [],
   "source": [
    "def if_statements(x):\n",
    "    \"\"\"Perform a series of checks and print statements depending on input x\"\"\"\n",
    "    if x < 10:\n",
    "        print('x less than 10')\n",
    "    elif x < 20:\n",
    "        print('x less than 20')\n",
    "    elif x < 30:\n",
    "        print('x less than 30')\n",
    "    elif x < 30 and x > 20:\n",
    "        print('x is between 20 and 30')\n",
    "    elif x > 30 and x < 50:\n",
    "        print('x is between 30 and 50')\n",
    "    else:\n",
    "        print('x is greater than 50')"
   ]
  },
  {
   "cell_type": "code",
   "execution_count": 2,
   "metadata": {},
   "outputs": [
    {
     "name": "stdout",
     "output_type": "stream",
     "text": [
      "x less than 10\n"
     ]
    }
   ],
   "source": [
    "if_statements(5)"
   ]
  },
  {
   "cell_type": "markdown",
   "metadata": {},
   "source": [
    "Since the if-condition evaluates to True, the elif-statements and else-statement are not checked. That is why \"x less than 20\" is not printed, even though that elif-condition will also evaluate to True."
   ]
  },
  {
   "cell_type": "code",
   "execution_count": 4,
   "metadata": {},
   "outputs": [
    {
     "name": "stdout",
     "output_type": "stream",
     "text": [
      "x less than 20\n"
     ]
    }
   ],
   "source": [
    "if_statements(15)"
   ]
  },
  {
   "cell_type": "markdown",
   "metadata": {},
   "source": [
    "Here, the *if* condition is False. Therefore, Python checks the following *elif* condition. Since it is True, the statements inside the *elif* block gets executed."
   ]
  },
  {
   "cell_type": "code",
   "execution_count": 7,
   "metadata": {},
   "outputs": [
    {
     "name": "stdout",
     "output_type": "stream",
     "text": [
      "x less than 30\n"
     ]
    }
   ],
   "source": [
    "if_statements(25)"
   ]
  },
  {
   "cell_type": "markdown",
   "metadata": {},
   "source": [
    "In this case, the first two conditions(x < 10, x < 20) evaluate to False and the third condition (x < 30) evaluates to True. Therefore, statements inside third condition are executed."
   ]
  },
  {
   "cell_type": "markdown",
   "metadata": {},
   "source": [
    "In this function, you may notice that if the fourth condition (x < 30 **and** x > 20) is True, the third condition (x < 30) will also be True. This means that no matter what value we give to x, the statements inside the fourth condition will never be executed."
   ]
  },
  {
   "cell_type": "code",
   "execution_count": 8,
   "metadata": {},
   "outputs": [
    {
     "name": "stdout",
     "output_type": "stream",
     "text": [
      "x is between 30 and 50\n"
     ]
    }
   ],
   "source": [
    "if_statements(40)"
   ]
  },
  {
   "cell_type": "markdown",
   "metadata": {},
   "source": [
    "Notice that we can use Boolean operators to further define our condition."
   ]
  },
  {
   "cell_type": "code",
   "execution_count": 9,
   "metadata": {},
   "outputs": [
    {
     "name": "stdout",
     "output_type": "stream",
     "text": [
      "x is greater than 50\n"
     ]
    }
   ],
   "source": [
    "if_statements(100)"
   ]
  },
  {
   "cell_type": "markdown",
   "metadata": {},
   "source": [
    "Here, the *else* condition is triggered since none of the *if* and *elif* conditions evaluated to True. By observation, we can see that this only happens when x is a number greater than 50, hence the print statement inside the *else* block."
   ]
  },
  {
   "cell_type": "markdown",
   "metadata": {},
   "source": [
    "![If statement flowchart](imgs/if_diagram.png)"
   ]
  },
  {
   "cell_type": "markdown",
   "metadata": {},
   "source": [
    "The flowchart above shows the process of a Python *if... elif... else* block."
   ]
  },
  {
   "cell_type": "markdown",
   "metadata": {},
   "source": [
    "## 5.2 For Loop"
   ]
  },
  {
   "cell_type": "markdown",
   "metadata": {},
   "source": [
    "### 5.2.1 For loop syntax"
   ]
  },
  {
   "cell_type": "markdown",
   "metadata": {},
   "source": [
    "*for* loops in Python is a little different from most other programming languages. Intead of looping over an arithmetic progression or defining a counter, step size and halting condition, Python's *for* statement iterates over the items of any sequence (a list or a string, for example), in the order that they appear inside the sequence."
   ]
  },
  {
   "cell_type": "code",
   "execution_count": 10,
   "metadata": {},
   "outputs": [
    {
     "name": "stdout",
     "output_type": "stream",
     "text": [
      "1   2\n",
      "2   4\n",
      "3   6\n",
      "4   8\n",
      "5   10\n"
     ]
    }
   ],
   "source": [
    "numbers = [1, 2, 3, 4, 5]\n",
    "\n",
    "for number in numbers:\n",
    "    print(number, ' ', str(number*2))"
   ]
  },
  {
   "cell_type": "markdown",
   "metadata": {},
   "source": [
    "Here, we have a list named numbers and we iterate over each item in the list using a *for* loop. At each iteration, the current value is assigned to the variable \"number\". This code prints out the value of the variable \"number\" and the value multiplied by two, at each iteration of the *for* loop.\n",
    "\n",
    "The variable \"number\" is simply an identifier that is assigned the current value at each iteration. We can name it whatever we like, as long as it is a valid variable name in Python. For example, the same code above can be written with the variable \"x\" instead of \"number\"."
   ]
  },
  {
   "cell_type": "code",
   "execution_count": 1,
   "metadata": {},
   "outputs": [
    {
     "name": "stdout",
     "output_type": "stream",
     "text": [
      "1   2\n",
      "2   4\n",
      "3   6\n",
      "4   8\n",
      "5   10\n"
     ]
    }
   ],
   "source": [
    "numbers = [1, 2, 3, 4, 5]\n",
    "\n",
    "for x in numbers:\n",
    "    print(x, ' ', str(x*2))"
   ]
  },
  {
   "cell_type": "markdown",
   "metadata": {},
   "source": [
    "As you can see, this produces the exact same result."
   ]
  },
  {
   "cell_type": "markdown",
   "metadata": {},
   "source": [
    "### 5.2.2 Modifying a sequence inside a for loop"
   ]
  },
  {
   "cell_type": "markdown",
   "metadata": {},
   "source": [
    "If you need to modify(add or remove, i.e. an action that causes indexes to change) a sequence while inside a for loop, you should make a copy of the sequence to iterate over before modifying the original sequence. Modifying the same sequence that you are iterating over can have unexpected consequences and may cause errors. The slice notation can be used to conveniently make a copy of a sequence to iterate over."
   ]
  },
  {
   "cell_type": "code",
   "execution_count": 13,
   "metadata": {},
   "outputs": [
    {
     "name": "stdout",
     "output_type": "stream",
     "text": [
      "[1, 3, 5]\n"
     ]
    }
   ],
   "source": [
    "# Let us remove even numbers from our original numbers list.\n",
    "\n",
    "for number in numbers[:]:\n",
    "    if number % 2 == 0:\n",
    "        numbers.remove(number)\n",
    "        \n",
    "print(numbers)"
   ]
  },
  {
   "cell_type": "markdown",
   "metadata": {},
   "source": [
    "Note that our *for* loop is iterating over a copy of the \"numbers\" list, not the original list. However, when we run across an even value in the copy of the \"numbers\" list, we remove that number from our original list.\n",
    "\n",
    "This leaves us with our original list with even numbers removed, and no nasty surprises."
   ]
  },
  {
   "cell_type": "markdown",
   "metadata": {
    "collapsed": true
   },
   "source": [
    "### 5.2.3 *enumerate()* function"
   ]
  },
  {
   "cell_type": "markdown",
   "metadata": {},
   "source": [
    "The *enumerate()* function is a built-in function that can be used when we want the index of an item as well as the current item of a sequence that we are iterating over.\n",
    "\n",
    "The *enumerate()* function returns the current index, and current value at each iteration of a sequence."
   ]
  },
  {
   "cell_type": "code",
   "execution_count": 5,
   "metadata": {},
   "outputs": [
    {
     "name": "stdout",
     "output_type": "stream",
     "text": [
      "The letter at index 0 is s\n",
      "The letter at index 1 is t\n",
      "The letter at index 2 is r\n",
      "The letter at index 3 is i\n",
      "The letter at index 4 is n\n",
      "The letter at index 5 is g\n"
     ]
    }
   ],
   "source": [
    "s = 'string'\n",
    "\n",
    "for i, letter in enumerate(s):\n",
    "    print('The letter at index', str(i), 'is', letter)"
   ]
  },
  {
   "cell_type": "markdown",
   "metadata": {},
   "source": [
    "### 5.2.4 *range()* function"
   ]
  },
  {
   "cell_type": "markdown",
   "metadata": {},
   "source": [
    "The *range()* function is used to generate a sequence of numbers. The structure  of the function is **range(start, stop, step_size)**. If a value is not provided for step_size, it will default to 1 and if a value is not provided for start, it ll default to 0.\n",
    "\n",
    "Like most cases in Python, the range function includes the start value given to it but not the end value. This means that *range(n)* will generate a sequence from 0 up to, but not including, n. The sequence will have a length n. The intuition to take from this is that *range(n)* will generate *n* number of values."
   ]
  },
  {
   "cell_type": "markdown",
   "metadata": {},
   "source": [
    "This function does not store all the values in memory, as it would be hugely inefficient when working with large numbers. Instead, it generates the next number on the fly. The *range()* function returns a built-in Python datatype called an iterator. We'll see these in more detail later on. If we need the sequence as a list, it has to be explicitly type casted into a list."
   ]
  },
  {
   "cell_type": "code",
   "execution_count": 4,
   "metadata": {},
   "outputs": [
    {
     "data": {
      "text/plain": [
       "[0, 1, 2, 3, 4, 5, 6, 7, 8, 9]"
      ]
     },
     "execution_count": 4,
     "metadata": {},
     "output_type": "execute_result"
    }
   ],
   "source": [
    "list(range(10))"
   ]
  },
  {
   "cell_type": "code",
   "execution_count": 5,
   "metadata": {},
   "outputs": [
    {
     "data": {
      "text/plain": [
       "[5, 10, 15, 20]"
      ]
     },
     "execution_count": 5,
     "metadata": {},
     "output_type": "execute_result"
    }
   ],
   "source": [
    "list(range(5, 25, 5))"
   ]
  },
  {
   "cell_type": "code",
   "execution_count": 6,
   "metadata": {},
   "outputs": [
    {
     "data": {
      "text/plain": [
       "[20, 19, 18, 17, 16, 15, 14, 13, 12, 11]"
      ]
     },
     "execution_count": 6,
     "metadata": {},
     "output_type": "execute_result"
    }
   ],
   "source": [
    "list(range(20, 10, -1))"
   ]
  },
  {
   "cell_type": "markdown",
   "metadata": {},
   "source": [
    "The *range()* function is useful when we want a Python for loop to behave more like a traditional numeric for loop."
   ]
  },
  {
   "cell_type": "code",
   "execution_count": 7,
   "metadata": {},
   "outputs": [
    {
     "name": "stdout",
     "output_type": "stream",
     "text": [
      "0\n",
      "1\n",
      "2\n",
      "3\n",
      "4\n",
      "5\n",
      "6\n",
      "7\n",
      "8\n",
      "9\n"
     ]
    }
   ],
   "source": [
    "for i in range(10):\n",
    "    print(i)"
   ]
  },
  {
   "cell_type": "code",
   "execution_count": 9,
   "metadata": {},
   "outputs": [
    {
     "name": "stdout",
     "output_type": "stream",
     "text": [
      "Letter at index 0 is a\n",
      "Letter at index 1 is b\n",
      "Letter at index 2 is c\n",
      "Letter at index 3 is d\n"
     ]
    }
   ],
   "source": [
    "lst = ['a', 'b', 'c', 'd']\n",
    "\n",
    "for i in range(len(lst)):\n",
    "    print('Letter at index', str(i), 'is', str(lst[i]))"
   ]
  },
  {
   "cell_type": "markdown",
   "metadata": {},
   "source": [
    "## 5.3 While Loop"
   ]
  },
  {
   "cell_type": "markdown",
   "metadata": {},
   "source": []
  }
 ],
 "metadata": {
  "kernelspec": {
   "display_name": "Python 3",
   "language": "python",
   "name": "python3"
  },
  "language_info": {
   "codemirror_mode": {
    "name": "ipython",
    "version": 3
   },
   "file_extension": ".py",
   "mimetype": "text/x-python",
   "name": "python",
   "nbconvert_exporter": "python",
   "pygments_lexer": "ipython3",
   "version": "3.6.2"
  }
 },
 "nbformat": 4,
 "nbformat_minor": 2
}
