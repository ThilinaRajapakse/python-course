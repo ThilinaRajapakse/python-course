{
 "cells": [
  {
   "cell_type": "markdown",
   "metadata": {},
   "source": [
    "# Introduction to Python\n",
    "\n",
    "R.M.T.C. Rajapakse"
   ]
  },
  {
   "cell_type": "markdown",
   "metadata": {},
   "source": [
    "# Chapter 3 - Python Lists"
   ]
  },
  {
   "cell_type": "markdown",
   "metadata": {},
   "source": [
    "## 3.1 Introduction to Lists"
   ]
  },
  {
   "cell_type": "markdown",
   "metadata": {},
   "source": [
    "The list is the workhorse of Python datatypes. They are simple and straightforward to use, but are also incredibly useful."
   ]
  },
  {
   "cell_type": "markdown",
   "metadata": {},
   "source": [
    "Python lists are mutable(can be modified after initialization), ordered, may contain items of arbitary types, and expands dynamically as items are added. In less technical terms, Python lists can contain a mixture of items(objects) of any datatype(including other lists), and new items can be added, removed, or modified at any time. In addition, the order of these items will be preserved."
   ]
  },
  {
   "cell_type": "markdown",
   "metadata": {},
   "source": [
    "Python lists are zero-indexed, following the convention of most programming languages. This means that the first item is always located at the 0th index of a Python list. The length of a list, or any other sequence in Python, can be obtained by using the *len()* function."
   ]
  },
  {
   "cell_type": "markdown",
   "metadata": {},
   "source": [
    "![Python List Structure](imgs/python-list-indexing.png)"
   ]
  },
  {
   "cell_type": "markdown",
   "metadata": {},
   "source": [
    "We'll see more of backward indexing later. For now, let's create the above list."
   ]
  },
  {
   "cell_type": "code",
   "execution_count": null,
   "metadata": {
    "collapsed": true
   },
   "outputs": [],
   "source": [
    "a = ['P', 'Y', 'T', 'H', 'O', 'N']\n",
    "\n",
    "print(a)\n",
    "print('The length of the list a is', len(a), '.')"
   ]
  },
  {
   "cell_type": "markdown",
   "metadata": {},
   "source": [
    "As shown above, a python list can be created by wrapping a comma-separated sequence of values in square brackets. The order of the values in the list is preserved. That is, unless explicitly modified, the items in a Python list will always be at the same index in that list."
   ]
  },
  {
   "cell_type": "markdown",
   "metadata": {},
   "source": [
    "## 3.2 List Indexing"
   ]
  },
  {
   "cell_type": "markdown",
   "metadata": {},
   "source": [
    "As we saw earlier, items in a list are placed at a specific index. We can access the items in a list using these indices. Both positive indices and negative indices can used to access the list items. Positive indices start from 0(from the left) and negative indices start from -1(from the right)."
   ]
  },
  {
   "cell_type": "code",
   "execution_count": null,
   "metadata": {
    "collapsed": true
   },
   "outputs": [],
   "source": [
    "print('0th index of a =', a[0])\n",
    "print('3rd index of a =', a[3])\n",
    "\n",
    "print('-1st index of a =', a[-1])\n",
    "print('-3rd index of a =',a[-3])"
   ]
  },
  {
   "cell_type": "markdown",
   "metadata": {},
   "source": [
    "## 3.3 List Slicing"
   ]
  },
  {
   "cell_type": "markdown",
   "metadata": {},
   "source": [
    "Once a list has been defined, a part of that list can be obtained as a new list. This operation is referred to as *slicing* a list."
   ]
  },
  {
   "cell_type": "markdown",
   "metadata": {},
   "source": [
    "The part of the list, called a *slice*, is indicated by specifying two indices. Slicing a list will return a new list containing all the items of the original list, in order, starting from the first slice index, up to but not including the second slice index."
   ]
  },
  {
   "cell_type": "markdown",
   "metadata": {},
   "source": [
    "> In Python, when referring to a range of values using a starting value and end value, Python will usually include the start value but exclude the end value. This works well with zero-based indexing."
   ]
  },
  {
   "cell_type": "code",
   "execution_count": null,
   "metadata": {
    "collapsed": true
   },
   "outputs": [],
   "source": [
    "print(a[2:5])    # Prints the third and fourth elements\n",
    "\n",
    "length = len(a)    # Let's get the length of our list 'a' and store it in 'length'\n",
    "\n",
    "print(a[0:length])    # As you'd intuitively expect, this prints the entire list.\n",
    "                      # Had the last index been included, this would have thrown an error.\n",
    "    "
   ]
  },
  {
   "cell_type": "markdown",
   "metadata": {},
   "source": [
    "Negative indices can also be used in slicing."
   ]
  },
  {
   "cell_type": "code",
   "execution_count": null,
   "metadata": {
    "collapsed": true
   },
   "outputs": [],
   "source": [
    "b = a[0:-3]\n",
    "\n",
    "print(b)"
   ]
  },
  {
   "cell_type": "markdown",
   "metadata": {},
   "source": [
    "If the left slice index is zero(the first element in the list), then it can be left out. That is, if no left slice index is given, Python will consider it to be 0."
   ]
  },
  {
   "cell_type": "code",
   "execution_count": null,
   "metadata": {
    "collapsed": true
   },
   "outputs": [],
   "source": [
    "print(a[:4])    # Prints the first four elements of a.\n",
    "print(a[0:4])    # The two statements are identical."
   ]
  },
  {
   "cell_type": "markdown",
   "metadata": {},
   "source": [
    "Again, you may notice that excluding the end value in the slice is intuitive. As you'd expect, this prints out the first four elements. Had the end value been included, it would have printed out five elements, rather confusing considering the slice is *[:4]*."
   ]
  },
  {
   "cell_type": "markdown",
   "metadata": {},
   "source": [
    "Similar to leaving out the left slice index, the right slice index can be left out if it is the last element of the list, or the end of the list."
   ]
  },
  {
   "cell_type": "code",
   "execution_count": null,
   "metadata": {
    "collapsed": true
   },
   "outputs": [],
   "source": [
    "print(a[3:])\n",
    "print(a[3:6])\n",
    "\n",
    "# Again, the two statements are identical."
   ]
  },
  {
   "cell_type": "markdown",
   "metadata": {},
   "source": [
    "If both slice indexes are left out, all the items in the original list are included. This creates an exact copy of the original list. In fact, this is a shorthand way to get a deep copy of a list."
   ]
  },
  {
   "cell_type": "markdown",
   "metadata": {},
   "source": [
    "### Deep Copy vs Shallow Copy"
   ]
  },
  {
   "cell_type": "markdown",
   "metadata": {},
   "source": [
    "A shallow copy only copies the reference to an object, i.e. the memory address. Deep copy creates an entirely new object, that is an exact copy of the original object. This difference is only relevant for compound objects, such as lists and dictionaries."
   ]
  },
  {
   "cell_type": "code",
   "execution_count": null,
   "metadata": {
    "collapsed": true
   },
   "outputs": [],
   "source": [
    "list_1 = [1, 2, 3, 4, 5]    # Initialize a list\n",
    "list_2 = list_1    # Make a copy of this list. We'll see that it is a shallow copy.\n",
    "\n",
    "print('list_1 originally :', list_1)\n",
    "print('list_2 :', list_2)\n",
    "\n",
    "list_2[2] = 1000    # Change the value of the 2nd index of list_2.\n",
    "print('list_2 after change :', list_2)    # Check the change.\n",
    "\n",
    "# Now let's check list_1.\n",
    "print('list_1 after modifying list_2', list_1)"
   ]
  },
  {
   "cell_type": "markdown",
   "metadata": {},
   "source": [
    "The change made in list_2 was reflected in list_1. This is because the line *list_2 = list_1* performed a shallow copy. It copied the memory address contained in list_1 and stored it in list_2. Now, both list_1 and list_2 point to the same memory address, i.e. same object."
   ]
  },
  {
   "cell_type": "markdown",
   "metadata": {},
   "source": [
    "![list_1](imgs/python-list_1.png)"
   ]
  },
  {
   "cell_type": "markdown",
   "metadata": {},
   "source": [
    "This was our original list, namely \"list_1\"."
   ]
  },
  {
   "cell_type": "markdown",
   "metadata": {},
   "source": [
    "Then, we executed the statement *list_2 = list_1*. This does not create a new list in Python. Instead, the memory address of list_1 is stored in list_2, as shown below."
   ]
  },
  {
   "cell_type": "markdown",
   "metadata": {},
   "source": [
    "![list_1 shallow copied to list_2](imgs/list_2.png)"
   ]
  },
  {
   "cell_type": "markdown",
   "metadata": {},
   "source": [
    "Next, we change the value of the 2nd index of list_2 to 1000."
   ]
  },
  {
   "cell_type": "markdown",
   "metadata": {},
   "source": [
    "![Shallow copy](imgs/shallow_copy.png)"
   ]
  },
  {
   "cell_type": "markdown",
   "metadata": {},
   "source": [
    "As the above figure makes clear, any changes in list_2 will be reflected in list_1, since they are both pointing to the same object in memory."
   ]
  },
  {
   "cell_type": "markdown",
   "metadata": {},
   "source": [
    "The slice operator can be used to make a complete copy of a list, avoiding this effect. However, this will still cause issues if the slice operator is used to copy a list containing other sublists. We'll see this with another example."
   ]
  },
  {
   "cell_type": "code",
   "execution_count": null,
   "metadata": {
    "collapsed": true
   },
   "outputs": [],
   "source": [
    "list_a = [1, 2, ['a', 'b', 'c']]"
   ]
  },
  {
   "cell_type": "markdown",
   "metadata": {},
   "source": [
    "![slice copy](imgs/list_a.png)"
   ]
  },
  {
   "cell_type": "markdown",
   "metadata": {},
   "source": [
    "As shown in the figure above, list_a contains 3 items, the last of which is another list. Hence, the 2nd index of list_a contains a reference to another list."
   ]
  },
  {
   "cell_type": "markdown",
   "metadata": {},
   "source": [
    "Now, let's use the slice operator to make a copy of list_a and store it in list_b."
   ]
  },
  {
   "cell_type": "code",
   "execution_count": null,
   "metadata": {
    "collapsed": true
   },
   "outputs": [],
   "source": [
    "list_b = list_a[:]"
   ]
  },
  {
   "cell_type": "markdown",
   "metadata": {},
   "source": [
    "![list_b](imgs/list_b.png)"
   ]
  },
  {
   "cell_type": "markdown",
   "metadata": {},
   "source": [
    "Here, we can see that a new list was created and assigned to list_b, and all the elements inside list_a was replicated in list_b. However, the sublist is common for both lists. This is because the 2nd index of list_a did not contain the sublist. It contained a reference(the memory address) to the sublist. This reference was replicated in the 2nd index of list_b, causing the sublist to be shared between list_a and list_b."
   ]
  },
  {
   "cell_type": "markdown",
   "metadata": {},
   "source": [
    "Modifying the values inside indices 0 and 1 of either list_a or list_b will now have no effect on the other. However, modifying the sublist via one list will cause the modification to be reflected in the other list as well."
   ]
  },
  {
   "cell_type": "code",
   "execution_count": null,
   "metadata": {
    "collapsed": true
   },
   "outputs": [],
   "source": [
    "print('Original list_a :', list_a)\n",
    "print('Original list_b :', list_b)\n",
    "\n",
    "list_a[1] = 1000\n",
    "\n",
    "print('Modified list_a :', list_a)\n",
    "print('list_b after modifying list_a:', list_b)"
   ]
  },
  {
   "cell_type": "markdown",
   "metadata": {},
   "source": [
    "Changing the 2nd index of list_a had no effect on list_b."
   ]
  },
  {
   "cell_type": "code",
   "execution_count": null,
   "metadata": {
    "collapsed": true
   },
   "outputs": [],
   "source": [
    "list_b[2][2] = 123    # Changes the 2nd index of the sublist via list_b.\n",
    "\n",
    "print('list_b after modifying sublist :', list_b)\n",
    "print('list_a after modifying sublist:', list_a)"
   ]
  },
  {
   "cell_type": "markdown",
   "metadata": {},
   "source": [
    "The change in the sublist was reflected across both list_a and list_b."
   ]
  },
  {
   "cell_type": "markdown",
   "metadata": {},
   "source": [
    "To avoid these effects, the **deepcopy()** function of the *copy* module can be used."
   ]
  },
  {
   "cell_type": "code",
   "execution_count": null,
   "metadata": {
    "collapsed": true
   },
   "outputs": [],
   "source": [
    "from copy import deepcopy\n",
    "\n",
    "list_1 = [1, 2, ['a', 'b', 'c']]\n",
    "\n",
    "list_2 = deepcopy(list_1)\n",
    "\n",
    "#  Change the items inside the two lists and see for yourself whether the modifications are reflected in the other list. #\n",
    "\n",
    "\n",
    "\n",
    "\n",
    "\n"
   ]
  },
  {
   "cell_type": "markdown",
   "metadata": {},
   "source": [
    "## 3.4 Adding Items to a List"
   ]
  },
  {
   "cell_type": "markdown",
   "metadata": {},
   "source": [
    "### 3.4.1 The \"+\" operator"
   ]
  },
  {
   "cell_type": "markdown",
   "metadata": {},
   "source": [
    "The *+* operator is used to concatenate two lists to make a new one. Concatenation is the act of connecting two items in a series. In the case of lists, this will create a new list containing all the items inside of the two concatenated lists, in order."
   ]
  },
  {
   "cell_type": "code",
   "execution_count": null,
   "metadata": {
    "collapsed": true
   },
   "outputs": [],
   "source": [
    "a = [1, 2, 3]\n",
    "b = [4, 5, 6]\n",
    "\n",
    "c = a + b\n",
    "print(c)"
   ]
  },
  {
   "cell_type": "markdown",
   "metadata": {},
   "source": [
    "### 3.4.2 The *append()* method"
   ]
  },
  {
   "cell_type": "markdown",
   "metadata": {},
   "source": [
    "The *append()* method adds a single item to the end of a list."
   ]
  },
  {
   "cell_type": "code",
   "execution_count": null,
   "metadata": {
    "collapsed": true
   },
   "outputs": [],
   "source": [
    "a = [1, 2, 3]\n",
    "\n",
    "a.append(4)\n",
    "print(a)\n",
    "\n",
    "a.append(['a', 'b', 'c'])\n",
    "print(a)"
   ]
  },
  {
   "cell_type": "markdown",
   "metadata": {},
   "source": [
    "### 3.4.3 The *extend()* method"
   ]
  },
  {
   "cell_type": "markdown",
   "metadata": {},
   "source": [
    "The *extend()* method takes a list as its argument, and appends each item of the input list to the original list, in order."
   ]
  },
  {
   "cell_type": "code",
   "execution_count": null,
   "metadata": {
    "collapsed": true
   },
   "outputs": [],
   "source": [
    "a = [1, 2, 3]\n",
    "\n",
    "a.extend(['a', 'b', 'c'])\n",
    "print(a)"
   ]
  },
  {
   "cell_type": "markdown",
   "metadata": {},
   "source": [
    "Notice the difference between the *append()* and *extend()* methods. When a list was given as the argument to the *append()* method, it added the input list as a single item, a list, to the end of the original list. The *extend()* method, on the other hand, added each item given in the input list seperately to the end of the original list."
   ]
  },
  {
   "cell_type": "markdown",
   "metadata": {},
   "source": [
    "### 3.4.4 The *insert()* method"
   ]
  },
  {
   "cell_type": "markdown",
   "metadata": {},
   "source": [
    "The *insert()* method is used to insert a single item to a list at a given index. It takes two arguments, the first is the index to insert at, and the second is the item to be inserted."
   ]
  },
  {
   "cell_type": "code",
   "execution_count": null,
   "metadata": {
    "collapsed": true
   },
   "outputs": [],
   "source": [
    "a = [1, 2, 3]\n",
    "\n",
    "a.insert(1, 'a')\n",
    "print(a)"
   ]
  },
  {
   "cell_type": "markdown",
   "metadata": {},
   "source": [
    "As the method name suggests, *insert()* adds a new item at a given index **without** replacing the previous item that was at that index. Instead, the item that was previously at the inserted index gets pushed one index to the right, along with all other items that came after it."
   ]
  },
  {
   "cell_type": "markdown",
   "metadata": {},
   "source": [
    "## 3.5 Searching a List"
   ]
  },
  {
   "cell_type": "markdown",
   "metadata": {},
   "source": [
    "### 3.5.1 The *count()* method"
   ]
  },
  {
   "cell_type": "markdown",
   "metadata": {},
   "source": [
    "The *count()* method is used to check the number of occurences of a specific value/item in a list."
   ]
  },
  {
   "cell_type": "code",
   "execution_count": null,
   "metadata": {
    "collapsed": true
   },
   "outputs": [],
   "source": [
    "a = [1, 2, 3, 1, 3, 3, 5]\n",
    "\n",
    "print('Occurences of 1 :', a.count(1))\n",
    "print('Occurences of 2 :', a.count(2))\n",
    "print('Occurences of 3 :', a.count(3))\n",
    "print('Occurences of 4 :', a.count(4))\n",
    "print('Occurences of 5 :', a.count(5))"
   ]
  },
  {
   "cell_type": "markdown",
   "metadata": {},
   "source": [
    "### 3.5.1 The *in* operator"
   ]
  },
  {
   "cell_type": "markdown",
   "metadata": {},
   "source": [
    "The *in* operator checks whether a given value exists inside the list and returns the corresponding Boolean value."
   ]
  },
  {
   "cell_type": "code",
   "execution_count": null,
   "metadata": {
    "collapsed": true
   },
   "outputs": [],
   "source": [
    "a = [1, 2, 3, 1, 3, 3, 5]\n",
    "\n",
    "print('1 exists in list a :', 1 in a)\n",
    "print('8 exists in list a :', 8 in a)"
   ]
  },
  {
   "cell_type": "markdown",
   "metadata": {},
   "source": [
    "### 3.5.2 The *index()* method"
   ]
  },
  {
   "cell_type": "markdown",
   "metadata": {},
   "source": [
    "The *index()* method finds the first occurrence of a given value in a list and returns the index. If the given value does not exist inside list, an error will be thrown."
   ]
  },
  {
   "cell_type": "code",
   "execution_count": null,
   "metadata": {
    "collapsed": true
   },
   "outputs": [],
   "source": [
    "a = [1, 2, 3, 1, 3, 3, 5]\n",
    "\n",
    "print(\"First occurence of '1' in list 'a' is at index :\", a.index(1))\n",
    "print(\"First occurence of '2' in list 'a' is at index :\", a.index(2))\n",
    "print(\"First occurence of '5' in list 'a' is at index :\", a.index(5))"
   ]
  },
  {
   "cell_type": "code",
   "execution_count": null,
   "metadata": {
    "collapsed": true
   },
   "outputs": [],
   "source": [
    "print(a.index(10))"
   ]
  },
  {
   "cell_type": "markdown",
   "metadata": {},
   "source": [
    "## 3.6 Removing Items from a List"
   ]
  },
  {
   "cell_type": "markdown",
   "metadata": {},
   "source": [
    "### 3.6.1 The *del* statement"
   ]
  },
  {
   "cell_type": "markdown",
   "metadata": {},
   "source": [
    "The *del* statement is used to remove the item at a specific index or a range of indices(a slice) from a list."
   ]
  },
  {
   "cell_type": "markdown",
   "metadata": {},
   "source": [
    "Note that removing items from a Python list does not leave gaps or empty spaces in a list. The items to the right of the deleted index are shifted by one index to the left so that no gaps exist."
   ]
  },
  {
   "cell_type": "code",
   "execution_count": null,
   "metadata": {
    "collapsed": true
   },
   "outputs": [],
   "source": [
    "a = [1, 2, 3, 4, 5]\n",
    "\n",
    "del a[2]\n",
    "print(a)\n",
    "\n",
    "del a[2:4]\n",
    "print(a)    # Specifying the range works the same as in slicing. The start index is included, whereas the end index is excluded.\n",
    "\n",
    "del a[:]\n",
    "print(a)"
   ]
  },
  {
   "cell_type": "markdown",
   "metadata": {},
   "source": [
    "### 3.6.2 The *remove()* method"
   ]
  },
  {
   "cell_type": "markdown",
   "metadata": {},
   "source": [
    "The *remove()* method is used to remove an item from a list by its value. It removes the first occurrence of that value."
   ]
  },
  {
   "cell_type": "code",
   "execution_count": null,
   "metadata": {
    "collapsed": true
   },
   "outputs": [],
   "source": [
    "a = [1, 2, 3, 2, 5, 2, 5]\n",
    "\n",
    "a.remove(2)    # The first occurrence of the value 2 is removed.\n",
    "print(a)"
   ]
  },
  {
   "cell_type": "markdown",
   "metadata": {},
   "source": [
    "### 3.6.3 The *pop()* method"
   ]
  },
  {
   "cell_type": "markdown",
   "metadata": {},
   "source": [
    "The *pop()* method is used to remove an item from a list and **return the item**. The returned item can be used in calculations, stored in another variable etc."
   ]
  },
  {
   "cell_type": "code",
   "execution_count": null,
   "metadata": {
    "collapsed": true
   },
   "outputs": [],
   "source": [
    "a = [1, 2, 3, 2, 5, 2, 5]\n",
    "b = a.pop()    # Calling pop without an argument pops the last item.\n",
    "print(b)\n",
    "\n",
    "c = a.pop(2)    # Alternatively, the index to pop can be specified.\n",
    "print(c)"
   ]
  },
  {
   "cell_type": "markdown",
   "metadata": {},
   "source": [
    "## 3.7 List Sorting"
   ]
  },
  {
   "cell_type": "markdown",
   "metadata": {},
   "source": [
    "The *sorted()* function is the preferred way of sorting a Python list, or other ordered collections. This function does not sort a list in-place. Instead, it returns a new, sorted list."
   ]
  },
  {
   "cell_type": "code",
   "execution_count": null,
   "metadata": {
    "collapsed": true
   },
   "outputs": [],
   "source": [
    "import random\n",
    "\n",
    "a = []\n",
    "# Generate a random list of 5 values\n",
    "for i in range(5):\n",
    "    a.append(random.randint(0, 10))\n",
    "\n",
    "print(a)                          # Random list\n",
    "print(sorted(a))                  # List sorted in ascending order"
   ]
  },
  {
   "cell_type": "markdown",
   "metadata": {},
   "source": [
    "The *sorted()* function sorts a list in ascending order by default. This behaviour can be modified through the use of optional arguments."
   ]
  },
  {
   "cell_type": "code",
   "execution_count": null,
   "metadata": {
    "collapsed": true
   },
   "outputs": [],
   "source": [
    "print(sorted(a, reverse=True))    # This sorts the list in descending order."
   ]
  },
  {
   "cell_type": "markdown",
   "metadata": {},
   "source": [
    "For more complex custom sorting, the *sorted()* function takes an optional \"key=\" argument, specifying a \"key\" function that transforms each element before comparison."
   ]
  },
  {
   "cell_type": "code",
   "execution_count": null,
   "metadata": {
    "collapsed": true
   },
   "outputs": [],
   "source": [
    "a = ['python', 'java', 'matlab', 'C']\n",
    "\n",
    "print(sorted(a, key=len)) # The list sorted according to the length of each element.\n"
   ]
  },
  {
   "cell_type": "code",
   "execution_count": null,
   "metadata": {
    "collapsed": true
   },
   "outputs": [],
   "source": []
  }
 ],
 "metadata": {
  "kernelspec": {
   "display_name": "Python 3",
   "language": "python",
   "name": "python3"
  },
  "language_info": {
   "codemirror_mode": {
    "name": "ipython",
    "version": 3
   },
   "file_extension": ".py",
   "mimetype": "text/x-python",
   "name": "python",
   "nbconvert_exporter": "python",
   "pygments_lexer": "ipython3",
   "version": "3.6.2"
  }
 },
 "nbformat": 4,
 "nbformat_minor": 2
}
