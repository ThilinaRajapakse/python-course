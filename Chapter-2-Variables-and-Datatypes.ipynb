{
 "cells": [
  {
   "cell_type": "markdown",
   "metadata": {},
   "source": [
    "# Introduction to Python\n",
    "\n",
    "R.M.T.C. Rajapakse"
   ]
  },
  {
   "cell_type": "markdown",
   "metadata": {},
   "source": [
    "# Chapter 2 - Variables and Data types"
   ]
  },
  {
   "cell_type": "markdown",
   "metadata": {},
   "source": [
    "## 2.1 Variables"
   ]
  },
  {
   "cell_type": "markdown",
   "metadata": {},
   "source": [
    "A variable, as the name itself indicates, is something that can change. Programming languages use variables to refer to memory locations. This memory location can contain values, such as integers, floats, strings or other objects. Therefore, a variable can be thought of as a container to store values in. Variables can be accessed and changed during program execution."
   ]
  },
  {
   "cell_type": "markdown",
   "metadata": {},
   "source": [
    "In strongly-typed languages, each variable must be assigned a unique data type. That is, if a variable is declared as an integer, it can contain integers and integers only. Declaring a variable is essentially binding it to a data type. C, C++ and Java are some examples of strongly-typed languages."
   ]
  },
  {
   "cell_type": "markdown",
   "metadata": {},
   "source": [
    "In dynamically-typed languages, such as Python, declaration of variables is not necessary. Since a variable is not bound to a data type, both its value and/or data type may change during the execution of a Python program."
   ]
  },
  {
   "cell_type": "markdown",
   "metadata": {},
   "source": [
    "The name of the variable is known as its identifier. In Python, an identifier must obey the following rules.\n",
    "\n",
    "+ Must start with a letter or an underscore.\n",
    "+ Can contain letters, digits, and underscores.\n",
    "+ Can be of any length.\n",
    "+ Cannot be a Python keyword."
   ]
  },
  {
   "cell_type": "markdown",
   "metadata": {},
   "source": [
    "Keywords are reserved words in the Python language. The list of all keywords in Python are as follows.\n",
    "\n",
    "+ False\t\n",
    "+ class\t\n",
    "+ finally\n",
    "+ is\n",
    "+ return\n",
    "+ None\t\n",
    "+ continue\n",
    "+ for\n",
    "+ lambda\n",
    "+ try\n",
    "+ True\n",
    "+ def\n",
    "+ from\n",
    "+ nonlocal\n",
    "+ while\n",
    "+ and\n",
    "+ del\n",
    "+ global\n",
    "+ not\n",
    "+ with\n",
    "+ as\n",
    "+ elif\n",
    "+ if\n",
    "+ or\n",
    "+ yield\n",
    "+ assert\n",
    "+ else\n",
    "+ import\n",
    "+ pass\t \n",
    "+ break\n",
    "+ except\n",
    "+ in\n",
    "+ raise\t"
   ]
  },
  {
   "cell_type": "markdown",
   "metadata": {},
   "source": [
    "### Assigning values to variables"
   ]
  },
  {
   "cell_type": "markdown",
   "metadata": {},
   "source": [
    "As mentioned earlier, the data type is not defined in advance. The Python interpreter will detect the datatype by the data contained in the variable."
   ]
  },
  {
   "cell_type": "code",
   "execution_count": null,
   "metadata": {},
   "outputs": [],
   "source": [
    "x = 100    # x is an integer\n",
    "pi = 3.14    # pi is a float\n",
    "world = \"Hello world!\" # world is a string\n",
    "\n",
    "a = b = c = 100    # This statement assigns 100 to c, b and a.\n",
    "d, e, f = 10, 15, 20    # This simultaneously assigns values on the \n",
    "                        # right to the corresponding variable on the \n",
    "                        # left.\n",
    "        \n",
    "print('Before swapping: ', d, e)\n",
    "d, e = e, d    # Swaps the two values in-place\n",
    "print('After swapping: ', d, e)"
   ]
  },
  {
   "cell_type": "markdown",
   "metadata": {},
   "source": [
    "## 2.2 Datatypes"
   ]
  },
  {
   "cell_type": "markdown",
   "metadata": {},
   "source": [
    "Python has many native datatypes. A few of the most commonly used ones are given below.\n",
    "\n",
    "+ Booleans are either *True* or *False*.\n",
    "+ Numbers can be integers (1 and 2), floats (1.1 and 1.2), fractions (1/2 and 2/3), or even complex numbers.\n",
    "+ Strings are sequences of Unicode characters, e.g. an html document.\n",
    "+ Bytes and byte arrays, e.g. a jpeg image file.\n",
    "+ Lists are ordered sequences of values.\n",
    "+ Tuples are ordered, immutable sequences of values.\n",
    "+ Sets are unordered bags of values.\n",
    "+ Dictionaries are unordered bags of key-value pairs."
   ]
  },
  {
   "cell_type": "markdown",
   "metadata": {},
   "source": [
    "### Booleans"
   ]
  },
  {
   "cell_type": "markdown",
   "metadata": {},
   "source": [
    "Booleans are either *True* or *False*. The two constants, True and False, are used to assign boolean values to variables.\n",
    "\n",
    "A Python expression that evaluates to a boolean value(say an *if* statement, which can evaluate to either *True* or *False*) is known as a boolean context. Different datatypes have different rules as to which values will be considered *True* or *False* when used in a boolean context. For example, a list will evaluate to *False* when empty and *True* when it contains one or more items."
   ]
  },
  {
   "cell_type": "code",
   "execution_count": null,
   "metadata": {},
   "outputs": [],
   "source": [
    "x = True    # x is a Boolean\n",
    "\n",
    "print(type(x))    # The \"type()\" function is a very useful function that can be used\n",
    "                  # check the datatype of any Python object."
   ]
  },
  {
   "cell_type": "code",
   "execution_count": null,
   "metadata": {},
   "outputs": [],
   "source": [
    "list_a = []\n",
    "list_b = [1, 2, 3]\n",
    "\n",
    "if list_a:\n",
    "    print('Boolean context evaluated to True.')\n",
    "else:\n",
    "    print('Boolean context evaluated to False.')\n",
    "    \n",
    "if list_b:\n",
    "    print('Boolean context evaluated to True.')\n",
    "else:\n",
    "    print('Boolean context evaluated to False.')"
   ]
  },
  {
   "cell_type": "markdown",
   "metadata": {},
   "source": [
    "### Numbers"
   ]
  },
  {
   "cell_type": "markdown",
   "metadata": {},
   "source": [
    "Python supports a variety of number formats. There is no type declaration. Python distinguishes them by the data contained in the variable.  "
   ]
  },
  {
   "cell_type": "markdown",
   "metadata": {},
   "source": [
    "#### Integers\n",
    "\n",
    "An integer, or an int, is a number without a fractional part."
   ]
  },
  {
   "cell_type": "code",
   "execution_count": null,
   "metadata": {},
   "outputs": [],
   "source": [
    "a = 5\n",
    "b = 259\n",
    "\n",
    "# a and b are integers. Let's check using the \"type()\" function.\n",
    "\n",
    "print(type(a), type(b))"
   ]
  },
  {
   "cell_type": "markdown",
   "metadata": {},
   "source": [
    "#### Floats\n",
    "\n",
    "Float, or a floating point, is a number that has both an integer and a fractional part, separated by a decimal point."
   ]
  },
  {
   "cell_type": "code",
   "execution_count": null,
   "metadata": {},
   "outputs": [],
   "source": [
    "a = 5.9\n",
    "b = 3.3\n",
    "\n",
    "# a and b are floats. Let's check using the \"type()\" function.\n",
    "\n",
    "print(type(a), type(b))"
   ]
  },
  {
   "cell_type": "markdown",
   "metadata": {},
   "source": [
    "#### Complex Numbers\n",
    "\n",
    "A complex number is a number that has both a real part and an imaginary part. In Python, the imaginary part is denoted by the letter 'j'."
   ]
  },
  {
   "cell_type": "code",
   "execution_count": null,
   "metadata": {},
   "outputs": [],
   "source": [
    "a = 2 + 4j\n",
    "b = 3 + 1j\n",
    "\n",
    "# a and b are complex numbers. Let's check using the \"type()\" function.\n",
    "\n",
    "print(type(a), type(b))"
   ]
  },
  {
   "cell_type": "markdown",
   "metadata": {},
   "source": [
    "#### Operations on numbers\n",
    "\n",
    "+ As you'd expect, addition of two ints produces another int."
   ]
  },
  {
   "cell_type": "code",
   "execution_count": null,
   "metadata": {},
   "outputs": [],
   "source": [
    "a = 5\n",
    "b = 4\n",
    "\n",
    "c = a + b\n",
    "\n",
    "print(type(c))"
   ]
  },
  {
   "cell_type": "markdown",
   "metadata": {},
   "source": [
    "+ Addition of an int and a float produces a float"
   ]
  },
  {
   "cell_type": "code",
   "execution_count": null,
   "metadata": {},
   "outputs": [],
   "source": [
    "a = 1.2\n",
    "b = 3\n",
    "\n",
    "c = a + b\n",
    "\n",
    "print(type(c))"
   ]
  },
  {
   "cell_type": "markdown",
   "metadata": {},
   "source": [
    "Generally speaking, if a mathematical operation on numbers generates a number with a decimal part, Python will store it as a float. If both operands are integers and the operation does not produce a decimal value, Python will store it as an integer."
   ]
  },
  {
   "cell_type": "markdown",
   "metadata": {},
   "source": [
    "Let's try a simple exercise. Please enter your code between the \"START CODE\" and \"END CODE\" comments."
   ]
  },
  {
   "cell_type": "code",
   "execution_count": null,
   "metadata": {
    "collapsed": true
   },
   "outputs": [],
   "source": [
    "# Initialize two variables 'a' and 'b' with the values 5 and 6 respectively\n",
    "\n",
    "\n",
    "### START CODE ###\n",
    "\n",
    "\n",
    "\n",
    "### END CODE ###\n",
    "\n",
    "\n",
    "# Add 'a' and 'b' together and assign the value to the variable 'c'. Check its type.\n",
    "c = None\n",
    "\n",
    "\n",
    "### START CODE ###\n",
    "\n",
    "\n",
    "\n",
    "### END CODE ###\n",
    "\n",
    "\n",
    "assert isinstance(c, int), \"c should be an integer\"\n",
    "assert c == 11, \"Something is wrong. Check your code.\"\n",
    "\n",
    "# Divide 'c' by 2 and store the value in 'd'. Check the type of 'd'.\n",
    "d = None\n",
    "\n",
    "\n",
    "### START CODE ###\n",
    "\n",
    "\n",
    "\n",
    "### END CODE ###\n",
    "\n",
    "\n",
    "assert isinstance(d, float), \"d should be a float\"\n",
    "assert d == 5.5, \"Something is wrong. Check your code.\""
   ]
  },
  {
   "cell_type": "markdown",
   "metadata": {},
   "source": [
    "#### Typecasting numbers\n",
    "\n",
    "Converting a variable value from one type to another is called typecasting."
   ]
  },
  {
   "cell_type": "markdown",
   "metadata": {},
   "source": [
    "+ The \"float()\" function typecasts an integer to a float."
   ]
  },
  {
   "cell_type": "code",
   "execution_count": null,
   "metadata": {},
   "outputs": [],
   "source": [
    "a = 2.4\n",
    "b = float(a)\n",
    "\n",
    "print(b, type(b))"
   ]
  },
  {
   "cell_type": "markdown",
   "metadata": {},
   "source": [
    "+ The \"int()\" function typecasts a float to an int. In Python, this is a true truncate function. The float is not rounded off to the nearest int. Instead, it is rounded off towards 0. In essence, the decimal part is lopped off."
   ]
  },
  {
   "cell_type": "code",
   "execution_count": null,
   "metadata": {},
   "outputs": [],
   "source": [
    "a = 3.9\n",
    "b = -2.9\n",
    "\n",
    "a, b = int(a), int(b)\n",
    "\n",
    "print(a, type(a))\n",
    "print(b, type(b))"
   ]
  },
  {
   "cell_type": "markdown",
   "metadata": {},
   "source": [
    "#### Modulo division\n",
    "\n",
    "The modulo operation finds the remainder after the division of one number by another."
   ]
  },
  {
   "cell_type": "code",
   "execution_count": null,
   "metadata": {},
   "outputs": [],
   "source": [
    "a = 9\n",
    "b = 4\n",
    "c = 3\n",
    "\n",
    "print(a % b)\n",
    "print(a % c)"
   ]
  },
  {
   "cell_type": "markdown",
   "metadata": {},
   "source": [
    "#### \"Raise to the power\" operator\n",
    "\n",
    "The operator \"\\*\\*\" raises the number on the left of the operator to the power of the number on the right."
   ]
  },
  {
   "cell_type": "code",
   "execution_count": null,
   "metadata": {},
   "outputs": [],
   "source": [
    "a = 5\n",
    "b = 2\n",
    "\n",
    "print(a ** b)\n",
    "print(b ** a)"
   ]
  },
  {
   "cell_type": "markdown",
   "metadata": {},
   "source": [
    "### Python Modules"
   ]
  },
  {
   "cell_type": "markdown",
   "metadata": {},
   "source": [
    "Before moving onto more datatypes, we'll take a quick look at Python modules.\n",
    "\n",
    "Modules in Python are simply Python files(.py files), which can define functions, classes, variables and runnable code. Modules are used to logically organize Python code. They also allow reuse of functions and classes across different programs.\n",
    "\n",
    "A Python package or library is a collection of one or more modules.\n",
    "\n",
    "The *import* statement is used to, you guessed it, import modules/packages.\n",
    "\n",
    "There are several ways we can use this statement."
   ]
  },
  {
   "cell_type": "code",
   "execution_count": null,
   "metadata": {},
   "outputs": [],
   "source": [
    "import math\n",
    "\n",
    "print(math.sqrt(4))\n",
    "\n",
    "# Importing a module like this means that the module name has to be used each time\n",
    "# a function from the module is imported."
   ]
  },
  {
   "cell_type": "code",
   "execution_count": null,
   "metadata": {},
   "outputs": [],
   "source": [
    "from math import sqrt\n",
    "\n",
    "print(sqrt(4))\n",
    "\n",
    "# This method enables calling a function without referencing the module every time.\n",
    "# However, to use a new item from the module, the import statement has to be updated.\n",
    "# You can import multiple items by seperating them with commas.\n",
    "\n",
    "from random import randint, uniform\n",
    "\n",
    "print(randint(0, 10), uniform(0, 10))\n",
    "\n",
    "# The randint function returns a random integer, while the uniform function returns a random float."
   ]
  },
  {
   "cell_type": "markdown",
   "metadata": {},
   "source": [
    "A module can also be imported using an alias."
   ]
  },
  {
   "cell_type": "code",
   "execution_count": null,
   "metadata": {},
   "outputs": [],
   "source": [
    "import numpy as np\n",
    "\n",
    "print(np.zeros((1, 3)))"
   ]
  },
  {
   "cell_type": "markdown",
   "metadata": {},
   "source": [
    "### Fractions"
   ]
  },
  {
   "cell_type": "markdown",
   "metadata": {},
   "source": [
    "Python has a built-in module for working with fractions, named \"fractions\". This can be specially useful in situations where extremely high precision is needed when working with numbers. Since numbers are stored in binary format on computers, the conversion from decimal to binary and back will introduce a very *very* small error. But, if needed, the fractions module can be used to circumvent this effect by minimizing the decimal to binary conversions and vice versa."
   ]
  },
  {
   "cell_type": "code",
   "execution_count": null,
   "metadata": {},
   "outputs": [],
   "source": [
    "import fractions\n",
    "\n",
    "a = fractions.Fraction(2, 5)    # The first arguement(2) is the numerator and the second(5) is the denominator.\n",
    "b = a * 2\n",
    "\n",
    "print(a, b)"
   ]
  },
  {
   "cell_type": "markdown",
   "metadata": {},
   "source": [
    "### Trigonometry\n",
    "\n",
    "Basic trigonometric functions are also in the built-in math module."
   ]
  },
  {
   "cell_type": "code",
   "execution_count": null,
   "metadata": {},
   "outputs": [],
   "source": [
    "from math import sin, pi\n",
    "\n",
    "print(math.sin(math.pi / 2))"
   ]
  }
 ],
 "metadata": {
  "kernelspec": {
   "display_name": "Python 3",
   "language": "python",
   "name": "python3"
  },
  "language_info": {
   "codemirror_mode": {
    "name": "ipython",
    "version": 3
   },
   "file_extension": ".py",
   "mimetype": "text/x-python",
   "name": "python",
   "nbconvert_exporter": "python",
   "pygments_lexer": "ipython3",
   "version": "3.6.2"
  }
 },
 "nbformat": 4,
 "nbformat_minor": 2
}
